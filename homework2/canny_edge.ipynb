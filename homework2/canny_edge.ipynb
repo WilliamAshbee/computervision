{
  "nbformat": 4,
  "nbformat_minor": 0,
  "metadata": {
    "colab": {
      "name": "canny_edge.ipynb",
      "provenance": [],
      "collapsed_sections": [],
      "authorship_tag": "ABX9TyNpToI5L9JtzDHr0k8CPgvi",
      "include_colab_link": true
    },
    "kernelspec": {
      "name": "python3",
      "display_name": "Python 3"
    },
    "language_info": {
      "name": "python"
    }
  },
  "cells": [
    {
      "cell_type": "markdown",
      "metadata": {
        "id": "view-in-github",
        "colab_type": "text"
      },
      "source": [
        "<a href=\"https://colab.research.google.com/github/WilliamAshbee/computervision/blob/main/homework2/canny_edge.ipynb\" target=\"_parent\"><img src=\"https://colab.research.google.com/assets/colab-badge.svg\" alt=\"Open In Colab\"/></a>"
      ]
    },
    {
      "cell_type": "markdown",
      "source": [
        "#https://towardsdatascience.com/canny-edge-detection-step-by-step-in-python-computer-vision-b49c3a2d8123"
      ],
      "metadata": {
        "id": "y_TNYnNArmDn"
      }
    },
    {
      "cell_type": "code",
      "execution_count": 1,
      "metadata": {
        "id": "K7wYdphTfgy2",
        "outputId": "e8d33e96-6ce8-47c4-cd8f-bf0c2df64f6e",
        "colab": {
          "base_uri": "https://localhost:8080/"
        }
      },
      "outputs": [
        {
          "output_type": "stream",
          "name": "stdout",
          "text": [
            "five by five\n",
            " [[128 254 254 255 255]\n",
            " [  0 129 255 253 254]\n",
            " [  3   0 126 255 254]\n",
            " [  0   0   0 126 255]\n",
            " [  2   2   0   0 126]]\n"
          ]
        }
      ],
      "source": [
        "import matplotlib.pyplot as plt\n",
        "from scipy import ndimage\n",
        "\n",
        "import numpy as np\n",
        "five =np.array([[128,   254,   254,   255,   255],[0,   129,   255,   253,   254],\n",
        "     [3,    0,   126,   255,   254],\n",
        "     [0,     0,     0,   126,   255],\n",
        "     [2,     2 ,    0 ,    0 ,  126]])\n",
        "print('five by five\\n',five)"
      ]
    },
    {
      "cell_type": "code",
      "source": [
        "\n",
        "plt.imshow(five,cmap='Greys')"
      ],
      "metadata": {
        "colab": {
          "base_uri": "https://localhost:8080/",
          "height": 283
        },
        "id": "8pIuugLJf4rg",
        "outputId": "2d55a36a-d854-40fa-8ce3-dae836805071"
      },
      "execution_count": 2,
      "outputs": [
        {
          "output_type": "execute_result",
          "data": {
            "text/plain": [
              "<matplotlib.image.AxesImage at 0x7f9083fdcd50>"
            ]
          },
          "metadata": {},
          "execution_count": 2
        },
        {
          "output_type": "display_data",
          "data": {
            "text/plain": [
              "<Figure size 432x288 with 1 Axes>"
            ],
            "image/png": "[encoded data removed]"
          },
          "metadata": {
            "needs_background": "light"
          }
        }
      ]
    },
    {
      "cell_type": "code",
      "source": [
        "import numpy as np\n",
        "\n",
        "def gaussian_kernel(size, sigma=1):\n",
        "    size = int(size) // 2\n",
        "    x, y = np.mgrid[-size:size+1, -size:size+1]\n",
        "    normal = 1 / (2.0 * np.pi * sigma**2)\n",
        "    g =  np.exp(-((x**2 + y**2) / (2.0*sigma**2))) * normal\n",
        "    return g"
      ],
      "metadata": {
        "id": "RPMGVeKvhIxt"
      },
      "execution_count": 3,
      "outputs": []
    },
    {
      "cell_type": "code",
      "source": [
        "g = gaussian_kernel(3,1)\n",
        "print(g)\n",
        "\n"
      ],
      "metadata": {
        "colab": {
          "base_uri": "https://localhost:8080/"
        },
        "id": "krJAjQXihZgr",
        "outputId": "acd52f73-a174-4a3a-ca33-bda67714c426"
      },
      "execution_count": 4,
      "outputs": [
        {
          "output_type": "stream",
          "name": "stdout",
          "text": [
            "[[0.05854983 0.09653235 0.05854983]\n",
            " [0.09653235 0.15915494 0.09653235]\n",
            " [0.05854983 0.09653235 0.05854983]]\n"
          ]
        }
      ]
    },
    {
      "cell_type": "code",
      "source": [
        "from scipy import ndimage\n",
        "img = five\n",
        "img = ndimage.filters.convolve(img,g)\n",
        "print('gaussian\\n',img)\n",
        "plt.imshow(img,cmap='Greys')"
      ],
      "metadata": {
        "id": "imkBUD4R-B_F",
        "outputId": "110a2b02-7f8b-4752-f390-72c07285036c",
        "colab": {
          "base_uri": "https://localhost:8080/",
          "height": 389
        }
      },
      "execution_count": 5,
      "outputs": [
        {
          "output_type": "stream",
          "name": "stdout",
          "text": [
            "gaussian\n",
            " [[ 99 151 190 198 198]\n",
            " [ 47  99 158 190 198]\n",
            " [  8  39  99 158 190]\n",
            " [  0   7  39  98 151]\n",
            " [  1   0   7  46  98]]\n"
          ]
        },
        {
          "output_type": "execute_result",
          "data": {
            "text/plain": [
              "<matplotlib.image.AxesImage at 0x7f9083ac8810>"
            ]
          },
          "metadata": {},
          "execution_count": 5
        },
        {
          "output_type": "display_data",
          "data": {
            "text/plain": [
              "<Figure size 432x288 with 1 Axes>"
            ],
            "image/png": "[encoded data removed]"
          },
          "metadata": {
            "needs_background": "light"
          }
        }
      ]
    },
    {
      "cell_type": "code",
      "source": [
        "\n",
        "def sobel_filters(img):\n",
        "    Kx = np.array([[-1, 0, 1], [-2, 0, 2], [-1, 0, 1]], np.float32)\n",
        "    Ky = np.array([[1, 2, 1], [0, 0, 0], [-1, -2, -1]], np.float32)\n",
        "    \n",
        "    Ix = ndimage.filters.convolve(img, Kx)\n",
        "    Iy = ndimage.filters.convolve(img, Ky)\n",
        "    \n",
        "    G = np.hypot(Ix, Iy)\n",
        "    G = G / G.max() * 255\n",
        "    theta = np.arctan2(Iy, Ix)\n",
        "    \n",
        "    return (G, theta)\n"
      ],
      "metadata": {
        "id": "tVywJSoMhuhY"
      },
      "execution_count": 6,
      "outputs": []
    },
    {
      "cell_type": "code",
      "source": [
        "(img,D) = sobel_filters(five)"
      ],
      "metadata": {
        "id": "VY_SXUl9iD7K"
      },
      "execution_count": 7,
      "outputs": []
    },
    {
      "cell_type": "code",
      "source": [
        "#gradients\n",
        "print(img)\n",
        "print(D)\n",
        "plt.imshow(img,cmap='Greys')\n"
      ],
      "metadata": {
        "colab": {
          "base_uri": "https://localhost:8080/",
          "height": 460
        },
        "id": "wdAWeEVDiLnK",
        "outputId": "393d67aa-13e0-45e3-d481-94198cec3abc"
      },
      "execution_count": 8,
      "outputs": [
        {
          "output_type": "stream",
          "name": "stdout",
          "text": [
            "[[169.55530234 173.88372863  42.05629828   1.05547226   1.20342353]\n",
            " [173.56053036 253.66514105 169.22416661  42.72381686   0.74633159]\n",
            " [ 42.06689248 169.23305358 254.66819886 169.88907132  42.06027142]\n",
            " [  0.74633159  40.72126317 168.55366492 255.         175.82564859]\n",
            " [  1.88808617   2.0026178   40.72536655 174.36868059 170.22545809]]\n",
            "[[-2.35422599 -2.60443199 -2.36413083 -2.03444394 -1.76819189]\n",
            " [-2.11541356 -2.3548787  -2.3502774  -2.34838215 -1.89254688]\n",
            " [-2.33238946 -2.34436072 -2.35226266 -2.35815912 -2.37206617]\n",
            " [-0.32175055 -2.34799795 -2.35619449 -2.35619449 -2.11075542]\n",
            " [ 1.57079633  0.78539816 -2.33980252 -2.5997804  -2.35031221]]\n"
          ]
        },
        {
          "output_type": "execute_result",
          "data": {
            "text/plain": [
              "<matplotlib.image.AxesImage at 0x7f9083a3c490>"
            ]
          },
          "metadata": {},
          "execution_count": 8
        },
        {
          "output_type": "display_data",
          "data": {
            "text/plain": [
              "<Figure size 432x288 with 1 Axes>"
            ],
            "image/png": "[encoded data removed]"
          },
          "metadata": {
            "needs_background": "light"
          }
        }
      ]
    },
    {
      "cell_type": "code",
      "source": [
        "D#theta"
      ],
      "metadata": {
        "colab": {
          "base_uri": "https://localhost:8080/"
        },
        "id": "Q4I-RgWyiMWa",
        "outputId": "678d97ee-e29f-4b71-8250-c179cd0815dd"
      },
      "execution_count": 9,
      "outputs": [
        {
          "output_type": "execute_result",
          "data": {
            "text/plain": [
              "array([[-2.35422599, -2.60443199, -2.36413083, -2.03444394, -1.76819189],\n",
              "       [-2.11541356, -2.3548787 , -2.3502774 , -2.34838215, -1.89254688],\n",
              "       [-2.33238946, -2.34436072, -2.35226266, -2.35815912, -2.37206617],\n",
              "       [-0.32175055, -2.34799795, -2.35619449, -2.35619449, -2.11075542],\n",
              "       [ 1.57079633,  0.78539816, -2.33980252, -2.5997804 , -2.35031221]])"
            ]
          },
          "metadata": {},
          "execution_count": 9
        }
      ]
    },
    {
      "cell_type": "code",
      "source": [
        "def non_max_suppression(img, D):\n",
        "    M, N = img.shape\n",
        "    Z = np.zeros((M,N), dtype=np.int32)\n",
        "    angle = D * 180. / np.pi\n",
        "    angle[angle < 0] += 180\n",
        "\n",
        "    \n",
        "    for i in range(1,M-1):\n",
        "        for j in range(1,N-1):\n",
        "            try:\n",
        "                q = 255\n",
        "                r = 255\n",
        "                \n",
        "               #angle 0\n",
        "                if (0 <= angle[i,j] < 22.5) or (157.5 <= angle[i,j] <= 180):\n",
        "                    q = img[i, j+1]\n",
        "                    r = img[i, j-1]\n",
        "                #angle 45\n",
        "                elif (22.5 <= angle[i,j] < 67.5):\n",
        "                    q = img[i+1, j-1]\n",
        "                    r = img[i-1, j+1]\n",
        "                #angle 90\n",
        "                elif (67.5 <= angle[i,j] < 112.5):\n",
        "                    q = img[i+1, j]\n",
        "                    r = img[i-1, j]\n",
        "                #angle 135\n",
        "                elif (112.5 <= angle[i,j] < 157.5):\n",
        "                    q = img[i-1, j-1]\n",
        "                    r = img[i+1, j+1]\n",
        "\n",
        "                if (img[i,j] >= q) and (img[i,j] >= r):\n",
        "                    Z[i,j] = img[i,j]\n",
        "                else:\n",
        "                    Z[i,j] = 0\n",
        "\n",
        "            except IndexError as e:\n",
        "                pass\n",
        "    \n",
        "    return Z"
      ],
      "metadata": {
        "id": "PsruQGFJiNsB"
      },
      "execution_count": 10,
      "outputs": []
    },
    {
      "cell_type": "code",
      "source": [
        "img = non_max_suppression(img, D)"
      ],
      "metadata": {
        "id": "S31ahKfjimTK"
      },
      "execution_count": 11,
      "outputs": []
    },
    {
      "cell_type": "code",
      "source": [
        "print('non max suppression\\n',img)\n",
        "plt.imshow(img,cmap='Greys')"
      ],
      "metadata": {
        "colab": {
          "base_uri": "https://localhost:8080/",
          "height": 389
        },
        "id": "Lx7SsdVcmfTb",
        "outputId": "96dd6432-4160-47a7-fcfe-bf7a4b660f3c"
      },
      "execution_count": 12,
      "outputs": [
        {
          "output_type": "stream",
          "name": "stdout",
          "text": [
            "non max suppression\n",
            " [[  0   0   0   0   0]\n",
            " [  0 253   0   0   0]\n",
            " [  0 169 254 169   0]\n",
            " [  0   0   0 255   0]\n",
            " [  0   0   0   0   0]]\n"
          ]
        },
        {
          "output_type": "execute_result",
          "data": {
            "text/plain": [
              "<matplotlib.image.AxesImage at 0x7f9083fb3e50>"
            ]
          },
          "metadata": {},
          "execution_count": 12
        },
        {
          "output_type": "display_data",
          "data": {
            "text/plain": [
              "<Figure size 432x288 with 1 Axes>"
            ],
            "image/png": "[encoded data removed]"
          },
          "metadata": {
            "needs_background": "light"
          }
        }
      ]
    },
    {
      "cell_type": "code",
      "source": [
        "def threshold(img, lowThresholdRatio=0.05, highThresholdRatio=0.09):\n",
        "    highThreshold = img.max() * highThresholdRatio;\n",
        "    lowThreshold = highThreshold * lowThresholdRatio;\n",
        "    \n",
        "    M, N = img.shape\n",
        "    res = np.zeros((M,N), dtype=np.int32)\n",
        "    \n",
        "    weak = np.int32(25)\n",
        "    strong = np.int32(255)\n",
        "    \n",
        "    strong_i, strong_j = np.where(img >= highThreshold)\n",
        "    zeros_i, zeros_j = np.where(img < lowThreshold)\n",
        "    \n",
        "    weak_i, weak_j = np.where((img <= highThreshold) & (img >= lowThreshold))\n",
        "    \n",
        "    res[strong_i, strong_j] = strong\n",
        "    res[weak_i, weak_j] = weak\n",
        "    \n",
        "    return (res, weak, strong)\n"
      ],
      "metadata": {
        "id": "_FLNaSCIjec9"
      },
      "execution_count": 13,
      "outputs": []
    },
    {
      "cell_type": "code",
      "source": [
        "post_threshold = threshold(img,lowThresholdRatio=.1,highThresholdRatio=.9)"
      ],
      "metadata": {
        "id": "C22Uwk5rl0Sd"
      },
      "execution_count": 14,
      "outputs": []
    },
    {
      "cell_type": "code",
      "source": [
        "print('after thresholding \\n ', post_threshold)\n",
        "plt.imshow(post_threshold[0],cmap='Greys')"
      ],
      "metadata": {
        "colab": {
          "base_uri": "https://localhost:8080/",
          "height": 389
        },
        "id": "A4EmuxZ6l8UP",
        "outputId": "068929d1-ab16-4471-82b6-401dd312b2a7"
      },
      "execution_count": 15,
      "outputs": [
        {
          "output_type": "stream",
          "name": "stdout",
          "text": [
            "after thresholding \n",
            "  (array([[  0,   0,   0,   0,   0],\n",
            "       [  0, 255,   0,   0,   0],\n",
            "       [  0,  25, 255,  25,   0],\n",
            "       [  0,   0,   0, 255,   0],\n",
            "       [  0,   0,   0,   0,   0]], dtype=int32), 25, 255)\n"
          ]
        },
        {
          "output_type": "execute_result",
          "data": {
            "text/plain": [
              "<matplotlib.image.AxesImage at 0x7f9083989a10>"
            ]
          },
          "metadata": {},
          "execution_count": 15
        },
        {
          "output_type": "display_data",
          "data": {
            "text/plain": [
              "<Figure size 432x288 with 1 Axes>"
            ],
            "image/png": "[encoded data removed]"
          },
          "metadata": {
            "needs_background": "light"
          }
        }
      ]
    },
    {
      "cell_type": "code",
      "source": [
        "def hysteresis(img, weak, strong=255):\n",
        "    M, N = img.shape  \n",
        "    for i in range(1, M-1):\n",
        "        for j in range(1, N-1):\n",
        "            if (img[i,j] == weak):\n",
        "                try:\n",
        "                    if ((img[i+1, j-1] == strong) or (img[i+1, j] == strong) or (img[i+1, j+1] == strong)\n",
        "                        or (img[i, j-1] == strong) or (img[i, j+1] == strong)\n",
        "                        or (img[i-1, j-1] == strong) or (img[i-1, j] == strong) or (img[i-1, j+1] == strong)):\n",
        "                        img[i, j] = strong\n",
        "                    else:\n",
        "                        img[i, j] = 0\n",
        "                except IndexError as e:\n",
        "                    pass\n",
        "    return img\n"
      ],
      "metadata": {
        "id": "olPBEnDgl9FK"
      },
      "execution_count": 16,
      "outputs": []
    },
    {
      "cell_type": "code",
      "source": [
        "final_img = hysteresis(post_threshold[0],post_threshold[1],post_threshold[2])"
      ],
      "metadata": {
        "id": "ib7Bg0s5poUT"
      },
      "execution_count": 17,
      "outputs": []
    },
    {
      "cell_type": "code",
      "source": [
        "import matplotlib.pyplot as plt"
      ],
      "metadata": {
        "id": "5ggLmmKpp3LX"
      },
      "execution_count": 18,
      "outputs": []
    },
    {
      "cell_type": "code",
      "source": [
        "plt.imshow(final_img, cmap=\"Greys\")\n",
        "print('final image after hysteresis\\n',final_img)"
      ],
      "metadata": {
        "colab": {
          "base_uri": "https://localhost:8080/",
          "height": 371
        },
        "id": "qRWuxrUMqMkM",
        "outputId": "bb669bcf-85e3-479f-ad17-e7f26c1275f5"
      },
      "execution_count": 19,
      "outputs": [
        {
          "output_type": "stream",
          "name": "stdout",
          "text": [
            "final image after hysteresis\n",
            " [[  0   0   0   0   0]\n",
            " [  0 255   0   0   0]\n",
            " [  0 255 255 255   0]\n",
            " [  0   0   0 255   0]\n",
            " [  0   0   0   0   0]]\n"
          ]
        },
        {
          "output_type": "display_data",
          "data": {
            "text/plain": [
              "<Figure size 432x288 with 1 Axes>"
            ],
            "image/png": "[encoded data removed]"
          },
          "metadata": {
            "needs_background": "light"
          }
        }
      ]
    },
    {
      "cell_type": "code",
      "source": [
        ""
      ],
      "metadata": {
        "id": "XEqNB8WUqSGW"
      },
      "execution_count": 19,
      "outputs": []
    }
  ]
}