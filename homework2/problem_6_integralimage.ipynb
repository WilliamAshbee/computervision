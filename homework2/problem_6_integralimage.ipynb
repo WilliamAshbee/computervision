{
  "nbformat": 4,
  "nbformat_minor": 0,
  "metadata": {
    "colab": {
      "name": "problem-6-integralimage.ipynb",
      "provenance": [],
      "authorship_tag": "ABX9TyN7+Q5j3w+6dwOG2IuzeK7Q",
      "include_colab_link": true
    },
    "kernelspec": {
      "name": "python3",
      "display_name": "Python 3"
    },
    "language_info": {
      "name": "python"
    }
  },
  "cells": [
    {
      "cell_type": "markdown",
      "metadata": {
        "id": "view-in-github",
        "colab_type": "text"
      },
      "source": [
        "<a href=\"https://colab.research.google.com/github/WilliamAshbee/computervision/blob/main/homework2/problem_6_integralimage.ipynb\" target=\"_parent\"><img src=\"https://colab.research.google.com/assets/colab-badge.svg\" alt=\"Open In Colab\"/></a>"
      ]
    },
    {
      "cell_type": "code",
      "execution_count": 18,
      "metadata": {
        "id": "P5C-NcOLHqk8"
      },
      "outputs": [],
      "source": [
        "import numpy as np\n",
        "a = np.zeros((5,5))\n",
        "b = np.random.randint(1,20,[5,5])\n"
      ]
    },
    {
      "cell_type": "code",
      "source": [
        "b"
      ],
      "metadata": {
        "colab": {
          "base_uri": "https://localhost:8080/"
        },
        "id": "7kRoJbXKIsqR",
        "outputId": "edfd6b2a-f1e0-4c2b-f328-59541d872a21"
      },
      "execution_count": 20,
      "outputs": [
        {
          "output_type": "execute_result",
          "data": {
            "text/plain": [
              "array([[ 6,  4, 15,  9, 17],\n",
              "       [ 4, 10,  4,  8, 19],\n",
              "       [18,  9, 15, 18, 16],\n",
              "       [ 6, 15, 14,  8,  5],\n",
              "       [13, 14,  7,  6, 17]])"
            ]
          },
          "metadata": {},
          "execution_count": 20
        }
      ]
    },
    {
      "cell_type": "code",
      "source": [
        "def myIntegralImage(img):\n",
        "  temp = np.pad(img, 1, 'constant', constant_values=0)\n",
        "  for j in range(1,temp.shape[0]-1):\n",
        "    for i in range(1,temp.shape[1]-1):\n",
        "      temp[j,i] = temp[j-1,i]+temp[j,i-1]+temp[j,i]-temp[j-1,i-1]\n",
        "       \n",
        "  return temp"
      ],
      "metadata": {
        "id": "ft2oLzZ_I9UY"
      },
      "execution_count": 41,
      "outputs": []
    },
    {
      "cell_type": "code",
      "source": [
        "print(b)\n",
        "print(myIntegralImage(b))"
      ],
      "metadata": {
        "colab": {
          "base_uri": "https://localhost:8080/"
        },
        "id": "Pp3MsdVAKvMD",
        "outputId": "4bba843b-2978-4bbc-93a6-6c20feb7051a"
      },
      "execution_count": 42,
      "outputs": [
        {
          "output_type": "stream",
          "name": "stdout",
          "text": [
            "[[ 6  4 15  9 17]\n",
            " [ 4 10  4  8 19]\n",
            " [18  9 15 18 16]\n",
            " [ 6 15 14  8  5]\n",
            " [13 14  7  6 17]]\n",
            "[[  0   0   0   0   0   0   0]\n",
            " [  0   6  10  25  34  51   0]\n",
            " [  0  10  24  43  60  96   0]\n",
            " [  0  28  51  85 120 172   0]\n",
            " [  0  34  72 120 163 220   0]\n",
            " [  0  47  99 154 203 277   0]\n",
            " [  0   0   0   0   0   0   0]]\n"
          ]
        }
      ]
    },
    {
      "cell_type": "code",
      "source": [
        "np.sum(b)"
      ],
      "metadata": {
        "colab": {
          "base_uri": "https://localhost:8080/"
        },
        "id": "1uGt06GgKxrS",
        "outputId": "3a3c4a3b-ff2c-4e44-fae2-d05dec00bcbb"
      },
      "execution_count": 43,
      "outputs": [
        {
          "output_type": "execute_result",
          "data": {
            "text/plain": [
              "277"
            ]
          },
          "metadata": {},
          "execution_count": 43
        }
      ]
    },
    {
      "cell_type": "code",
      "source": [
        ""
      ],
      "metadata": {
        "id": "8ABDeptUML05"
      },
      "execution_count": null,
      "outputs": []
    }
  ]
}