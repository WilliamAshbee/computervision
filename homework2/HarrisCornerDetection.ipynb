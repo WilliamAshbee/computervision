{
  "nbformat": 4,
  "nbformat_minor": 0,
  "metadata": {
    "colab": {
      "name": "HarrisCornerDetection.ipynb",
      "provenance": [],
      "authorship_tag": "ABX9TyN1qwkxvPNwdlQP2h0wQadf",
      "include_colab_link": true
    },
    "kernelspec": {
      "name": "python3",
      "display_name": "Python 3"
    },
    "language_info": {
      "name": "python"
    }
  },
  "cells": [
    {
      "cell_type": "markdown",
      "metadata": {
        "id": "view-in-github",
        "colab_type": "text"
      },
      "source": [
        "<a href=\"https://colab.research.google.com/github/WilliamAshbee/computervision/blob/main/homework2/HarrisCornerDetection.ipynb\" target=\"_parent\"><img src=\"https://colab.research.google.com/assets/colab-badge.svg\" alt=\"Open In Colab\"/></a>"
      ]
    },
    {
      "cell_type": "code",
      "execution_count": 1,
      "metadata": {
        "id": "f-wCTsV6D-oB"
      },
      "outputs": [],
      "source": [
        "from skimage.io import imread\n",
        "from skimage.color import rgb2gray\n",
        "\n",
        "#img = imread('chess.jpg')\n",
        "\n",
        "import matplotlib.pyplot as plt\n",
        "import numpy as np"
      ]
    },
    {
      "cell_type": "code",
      "source": [
        "imggray = np.zeros((20,20))\n",
        "imggray[10:,10:] = 1.0"
      ],
      "metadata": {
        "id": "oyhMDZ17MaT8"
      },
      "execution_count": 2,
      "outputs": []
    },
    {
      "cell_type": "code",
      "source": [
        "# imggray = rgb2gray(img)\n",
        "# imggray = imggray[30:40,30:40]\n",
        "plt.imshow(imggray,cmap='Greys')"
      ],
      "metadata": {
        "colab": {
          "base_uri": "https://localhost:8080/",
          "height": 283
        },
        "id": "X8Q3pZQxRmT0",
        "outputId": "7942c575-a547-4892-ab7f-70fadc79bbf8"
      },
      "execution_count": 3,
      "outputs": [
        {
          "output_type": "execute_result",
          "data": {
            "text/plain": [
              "<matplotlib.image.AxesImage at 0x7fe55f2d2d90>"
            ]
          },
          "metadata": {},
          "execution_count": 3
        },
        {
          "output_type": "display_data",
          "data": {
            "text/plain": [
              "<Figure size 432x288 with 1 Axes>"
            ],
            "image/png": "[encoded data removed]"
          },
          "metadata": {
            "needs_background": "light"
          }
        }
      ]
    },
    {
      "cell_type": "code",
      "source": [
        "def getKernel():\n",
        "  x = np.linspace(-2,2,5)\n",
        "  y = np.linspace(-2,2,5)\n",
        "  g = np.zeros((5,5))\n",
        "  for i in range(5):\n",
        "    for j in range(5):\n",
        "      g[i,j] = np.exp((-x[i]**2-y[j]**2)/2.0)/(2.0*np.pi)\n",
        "  return g"
      ],
      "metadata": {
        "id": "DZhPTLjD5Sxn"
      },
      "execution_count": 4,
      "outputs": []
    },
    {
      "cell_type": "code",
      "source": [
        "g = getKernel()"
      ],
      "metadata": {
        "id": "gwnfL2REI3ZA"
      },
      "execution_count": 5,
      "outputs": []
    },
    {
      "cell_type": "code",
      "source": [
        "print(g)"
      ],
      "metadata": {
        "colab": {
          "base_uri": "https://localhost:8080/"
        },
        "id": "FIuN3liPzQ7M",
        "outputId": "7134ab56-186f-404e-d908-959ba3f8b2fc"
      },
      "execution_count": 6,
      "outputs": [
        {
          "output_type": "stream",
          "name": "stdout",
          "text": [
            "[[0.00291502 0.01306423 0.02153928 0.01306423 0.00291502]\n",
            " [0.01306423 0.05854983 0.09653235 0.05854983 0.01306423]\n",
            " [0.02153928 0.09653235 0.15915494 0.09653235 0.02153928]\n",
            " [0.01306423 0.05854983 0.09653235 0.05854983 0.01306423]\n",
            " [0.00291502 0.01306423 0.02153928 0.01306423 0.00291502]]\n"
          ]
        }
      ]
    },
    {
      "cell_type": "code",
      "source": [
        "ones = np.ones((5,5))"
      ],
      "metadata": {
        "id": "eB0DVJmIzmWB"
      },
      "execution_count": 7,
      "outputs": []
    },
    {
      "cell_type": "code",
      "source": [
        "def convolve2D(image, kernel, padding=0, strides=1):\n",
        "    # Cross Correlation\n",
        "    kernel = np.flipud(np.fliplr(kernel))\n",
        "\n",
        "    # Gather Shapes of Kernel + Image + Padding\n",
        "    xKernShape = kernel.shape[0]\n",
        "    yKernShape = kernel.shape[1]\n",
        "    xImgShape = image.shape[0]\n",
        "    yImgShape = image.shape[1]\n",
        "\n",
        "    # Shape of Output Convolution\n",
        "    xOutput = int(((xImgShape - xKernShape + 2 * padding) / strides) + 1)\n",
        "    yOutput = int(((yImgShape - yKernShape + 2 * padding) / strides) + 1)\n",
        "    output = np.zeros((xOutput, yOutput))\n",
        "\n",
        "    # Apply Equal Padding to All Sides\n",
        "    if padding != 0:\n",
        "        imagePadded = np.zeros((image.shape[0] + padding*2, image.shape[1] + padding*2))\n",
        "        imagePadded[int(padding):int(-1 * padding), int(padding):int(-1 * padding)] = image\n",
        "        print(imagePadded)\n",
        "    else:\n",
        "        imagePadded = image\n",
        "\n",
        "    # Iterate through image\n",
        "    for y in range(imagePadded.shape[1]):\n",
        "        # Exit Convolution\n",
        "        if y > imagePadded.shape[1] - yKernShape:\n",
        "            break\n",
        "        # Only Convolve if y has gone down by the specified Strides\n",
        "        if y % strides == 0:\n",
        "            for x in range(imagePadded.shape[0]):\n",
        "                # Go to next row once kernel is out of bounds\n",
        "                if x > imagePadded.shape[0] - xKernShape:\n",
        "                    break\n",
        "                try:\n",
        "                    # Only Convolve if x has moved by the specified Strides\n",
        "                    if x % strides == 0:\n",
        "                        output[x, y] = (kernel * imagePadded[x: x + xKernShape, y: y + yKernShape]).sum()\n",
        "                except:\n",
        "                    break\n",
        "\n",
        "    return output"
      ],
      "metadata": {
        "id": "o0rFFmDw0Avd"
      },
      "execution_count": 8,
      "outputs": []
    },
    {
      "cell_type": "code",
      "source": [
        "print(convolve2D(ones, g, padding=2, strides=1))"
      ],
      "metadata": {
        "id": "u14dPcFM-XlZ",
        "outputId": "100a2199-4549-439e-ed8c-0856050d4765",
        "colab": {
          "base_uri": "https://localhost:8080/"
        }
      },
      "execution_count": 9,
      "outputs": [
        {
          "output_type": "stream",
          "name": "stdout",
          "text": [
            "[[0. 0. 0. 0. 0. 0. 0. 0. 0.]\n",
            " [0. 0. 0. 0. 0. 0. 0. 0. 0.]\n",
            " [0. 0. 1. 1. 1. 1. 1. 0. 0.]\n",
            " [0. 0. 1. 1. 1. 1. 1. 0. 0.]\n",
            " [0. 0. 1. 1. 1. 1. 1. 0. 0.]\n",
            " [0. 0. 1. 1. 1. 1. 1. 0. 0.]\n",
            " [0. 0. 1. 1. 1. 1. 1. 0. 0.]\n",
            " [0. 0. 0. 0. 0. 0. 0. 0. 0.]\n",
            " [0. 0. 0. 0. 0. 0. 0. 0. 0.]]\n",
            "[[0.48289153 0.65103795 0.68855648 0.65103795 0.48289153]\n",
            " [0.65103795 0.8777342  0.92831697 0.8777342  0.65103795]\n",
            " [0.68855648 0.92831697 0.98181476 0.92831697 0.68855648]\n",
            " [0.65103795 0.8777342  0.92831697 0.8777342  0.65103795]\n",
            " [0.48289153 0.65103795 0.68855648 0.65103795 0.48289153]]\n"
          ]
        }
      ]
    },
    {
      "cell_type": "code",
      "source": [
        "from google.colab import drive\n",
        "#drive.mount('/content/drive')"
      ],
      "metadata": {
        "id": "hdKPRHbgEVW6"
      },
      "execution_count": 10,
      "outputs": []
    },
    {
      "cell_type": "code",
      "source": [
        "from scipy import signal as sig\n",
        "import numpy as np\n",
        "\n",
        "def gradient_x(imggray):\n",
        "    ##Sobel operator kernels.\n",
        "    kernel_x = np.array([[-1, 0, 1],[-2, 0, 2],[-1, 0, 1]])\n",
        "    return sig.convolve2d(imggray, kernel_x, mode='same')\n",
        "def gradient_y(imggray):\n",
        "    kernel_y = np.array([[1, 2, 1], [0, 0, 0], [-1, -2, -1]])\n",
        "    return sig.convolve2d(imggray, kernel_y, mode='same')\n",
        "\n",
        "I_x = gradient_x(imggray)\n",
        "I_y = gradient_y(imggray)"
      ],
      "metadata": {
        "id": "alJYtfmuEHU7"
      },
      "execution_count": 11,
      "outputs": []
    },
    {
      "cell_type": "code",
      "source": [
        "Ixx = convolve2D(I_x**2,g)\n",
        "Iyy = convolve2D(I_y**2,g)\n",
        "Ixy = convolve2D(I_x*I_y,g)"
      ],
      "metadata": {
        "id": "fizrUI3dKI26"
      },
      "execution_count": 12,
      "outputs": []
    },
    {
      "cell_type": "code",
      "source": [
        ""
      ],
      "metadata": {
        "id": "pQcZ3OMAEiI1"
      },
      "execution_count": 12,
      "outputs": []
    },
    {
      "cell_type": "code",
      "source": [
        "plt.imshow(Ixx)"
      ],
      "metadata": {
        "colab": {
          "base_uri": "https://localhost:8080/",
          "height": 283
        },
        "id": "7VubCVumU52n",
        "outputId": "87f67738-a8c9-416f-997c-29765a1fcc85"
      },
      "execution_count": 13,
      "outputs": [
        {
          "output_type": "execute_result",
          "data": {
            "text/plain": [
              "<matplotlib.image.AxesImage at 0x7fe5576d6a90>"
            ]
          },
          "metadata": {},
          "execution_count": 13
        },
        {
          "output_type": "display_data",
          "data": {
            "text/plain": [
              "<Figure size 432x288 with 1 Axes>"
            ],
            "image/png": "[encoded data removed]"
          },
          "metadata": {
            "needs_background": "light"
          }
        }
      ]
    },
    {
      "cell_type": "code",
      "source": [
        "plt.imshow(Ixy)"
      ],
      "metadata": {
        "colab": {
          "base_uri": "https://localhost:8080/",
          "height": 283
        },
        "id": "gSaJ-6-ZVKPj",
        "outputId": "65321ae4-7674-4b3a-c11c-b4f8121c7662"
      },
      "execution_count": 14,
      "outputs": [
        {
          "output_type": "execute_result",
          "data": {
            "text/plain": [
              "<matplotlib.image.AxesImage at 0x7fe557656f90>"
            ]
          },
          "metadata": {},
          "execution_count": 14
        },
        {
          "output_type": "display_data",
          "data": {
            "text/plain": [
              "<Figure size 432x288 with 1 Axes>"
            ],
            "image/png": "[encoded data removed]"
          },
          "metadata": {
            "needs_background": "light"
          }
        }
      ]
    },
    {
      "cell_type": "code",
      "source": [
        "plt.imshow(Iyy)"
      ],
      "metadata": {
        "colab": {
          "base_uri": "https://localhost:8080/",
          "height": 283
        },
        "id": "ZIdBq8reVaCj",
        "outputId": "d97b2492-a1c9-44df-8275-432b3f210a38"
      },
      "execution_count": 15,
      "outputs": [
        {
          "output_type": "execute_result",
          "data": {
            "text/plain": [
              "<matplotlib.image.AxesImage at 0x7fe55764fb50>"
            ]
          },
          "metadata": {},
          "execution_count": 15
        },
        {
          "output_type": "display_data",
          "data": {
            "text/plain": [
              "<Figure size 432x288 with 1 Axes>"
            ],
            "image/png": "[encoded data removed]"
          },
          "metadata": {
            "needs_background": "light"
          }
        }
      ]
    },
    {
      "cell_type": "code",
      "source": [
        "k = 0.05\n",
        "\n",
        "# determinant\n",
        "detA = Ixx * Iyy - Ixy ** 2\n",
        "# trace\n",
        "traceA = Ixx + Iyy\n",
        "    \n",
        "harris_response = detA - k * traceA ** 2\n"
      ],
      "metadata": {
        "id": "5iv44ipLE3BL"
      },
      "execution_count": 16,
      "outputs": []
    },
    {
      "cell_type": "code",
      "source": [
        "print(np.max(detA))\n",
        "print(np.max(traceA))"
      ],
      "metadata": {
        "colab": {
          "base_uri": "https://localhost:8080/"
        },
        "id": "nMrh8E-Ijdqf",
        "outputId": "d385d111-f973-422a-cb08-6dc11e94374d"
      },
      "execution_count": 17,
      "outputs": [
        {
          "output_type": "stream",
          "name": "stdout",
          "text": [
            "25.868232543195894\n",
            "11.092062962517188\n"
          ]
        }
      ]
    },
    {
      "cell_type": "code",
      "source": [
        "plt.imshow(harris_response>np.max(harris_response)-1, cmap='Greys')"
      ],
      "metadata": {
        "colab": {
          "base_uri": "https://localhost:8080/",
          "height": 283
        },
        "id": "T_dydygzfSmD",
        "outputId": "541b42bd-f95e-4d1f-9ef0-011ee841770d"
      },
      "execution_count": 18,
      "outputs": [
        {
          "output_type": "execute_result",
          "data": {
            "text/plain": [
              "<matplotlib.image.AxesImage at 0x7fe5575570d0>"
            ]
          },
          "metadata": {},
          "execution_count": 18
        },
        {
          "output_type": "display_data",
          "data": {
            "text/plain": [
              "<Figure size 432x288 with 1 Axes>"
            ],
            "image/png": "[encoded data removed]"
          },
          "metadata": {
            "needs_background": "light"
          }
        }
      ]
    },
    {
      "cell_type": "code",
      "source": [
        "print(np.argmax(harris_response)//16,(np.argmax(harris_response)/16-np.argmax(harris_response)//16)*16)"
      ],
      "metadata": {
        "colab": {
          "base_uri": "https://localhost:8080/"
        },
        "id": "1SYT_FSrakXT",
        "outputId": "0ef02f42-1e35-40c4-9aef-83f49416c490"
      },
      "execution_count": 19,
      "outputs": [
        {
          "output_type": "stream",
          "name": "stdout",
          "text": [
            "8 8.0\n"
          ]
        }
      ]
    }
  ]
}