{
  "nbformat": 4,
  "nbformat_minor": 0,
  "metadata": {
    "colab": {
      "name": "HarrisCornerDetection.ipynb",
      "provenance": [],
      "authorship_tag": "ABX9TyMwJBu7uFGTQlk7CQb+Syin",
      "include_colab_link": true
    },
    "kernelspec": {
      "name": "python3",
      "display_name": "Python 3"
    },
    "language_info": {
      "name": "python"
    }
  },
  "cells": [
    {
      "cell_type": "markdown",
      "metadata": {
        "id": "view-in-github",
        "colab_type": "text"
      },
      "source": [
        "<a href=\"https://colab.research.google.com/github/WilliamAshbee/computervision/blob/main/HarrisCornerDetection.ipynb\" target=\"_parent\"><img src=\"https://colab.research.google.com/assets/colab-badge.svg\" alt=\"Open In Colab\"/></a>"
      ]
    },
    {
      "cell_type": "code",
      "execution_count": 2,
      "metadata": {
        "id": "f-wCTsV6D-oB"
      },
      "outputs": [],
      "source": [
        "\n",
        "from skimage.io import imread\n",
        "from skimage.color import rgb2gray\n",
        "\n",
        "img = imread('box.jpg')\n",
        "imggray = rgb2gray(img)"
      ]
    },
    {
      "cell_type": "code",
      "source": [
        "from google.colab import drive\n",
        "drive.mount('/content/drive')"
      ],
      "metadata": {
        "id": "hdKPRHbgEVW6"
      },
      "execution_count": null,
      "outputs": []
    },
    {
      "cell_type": "code",
      "source": [
        "from scipy import signal as sig\n",
        "import numpy as np\n",
        "\n",
        "def gradient_x(imggray):\n",
        "    ##Sobel operator kernels.\n",
        "    kernel_x = np.array([[-1, 0, 1],[-2, 0, 2],[-1, 0, 1]])\n",
        "    return sig.convolve2d(imggray, kernel_x, mode='same')\n",
        "def gradient_y(imggray):\n",
        "    kernel_y = np.array([[1, 2, 1], [0, 0, 0], [-1, -2, -1]])\n",
        "    return sig.convolve2d(imggray, kernel_y, mode='same')\n",
        "\n",
        "I_x = gradient_x(imggray)\n",
        "I_y = gradient_y(imggray)"
      ],
      "metadata": {
        "id": "alJYtfmuEHU7"
      },
      "execution_count": 3,
      "outputs": []
    },
    {
      "cell_type": "code",
      "source": [
        "from scipy.ndimage import gaussian_filter\n",
        "\n",
        "Ixx = gaussian_filter(I_x**2, sigma=1)\n",
        "Ixy = gaussian_filter(I_y*I_x, sigma=1)\n",
        "Iyy = gaussian_filter(I_y**2, sigma=1)"
      ],
      "metadata": {
        "id": "CsA3p07QEfMQ"
      },
      "execution_count": 5,
      "outputs": []
    },
    {
      "cell_type": "code",
      "source": [
        "Ixx"
      ],
      "metadata": {
        "colab": {
          "base_uri": "https://localhost:8080/"
        },
        "id": "pQcZ3OMAEiI1",
        "outputId": "3ef12ece-6083-4cc3-9e51-e43b5e412a17"
      },
      "execution_count": 6,
      "outputs": [
        {
          "output_type": "execute_result",
          "data": {
            "text/plain": [
              "array([[7.37923514, 3.40759338, 0.67265867, ..., 0.67265867, 3.40759338,\n",
              "        7.37923514],\n",
              "       [8.92683085, 4.12224426, 0.8137307 , ..., 0.8137307 , 4.12224426,\n",
              "        8.92683085],\n",
              "       [9.99252948, 4.61436404, 0.91087511, ..., 0.91087511, 4.61436404,\n",
              "        9.99252948],\n",
              "       ...,\n",
              "       [9.99252948, 4.61436404, 0.91087511, ..., 0.91087511, 4.61436404,\n",
              "        9.99252948],\n",
              "       [8.92683085, 4.12224426, 0.8137307 , ..., 0.8137307 , 4.12224426,\n",
              "        8.92683085],\n",
              "       [7.37923514, 3.40759338, 0.67265867, ..., 0.67265867, 3.40759338,\n",
              "        7.37923514]])"
            ]
          },
          "metadata": {},
          "execution_count": 6
        }
      ]
    },
    {
      "cell_type": "code",
      "source": [
        "k = 0.05\n",
        "\n",
        "# determinant\n",
        "detA = Ixx * Iyy - Ixy ** 2\n",
        "# trace\n",
        "traceA = Ixx + Iyy\n",
        "    \n",
        "harris_response = detA - k * traceA ** 2"
      ],
      "metadata": {
        "id": "5iv44ipLE3BL"
      },
      "execution_count": 7,
      "outputs": []
    },
    {
      "cell_type": "code",
      "source": [
        "harris_response.shape"
      ],
      "metadata": {
        "colab": {
          "base_uri": "https://localhost:8080/"
        },
        "id": "eZk69oe6E6_a",
        "outputId": "071a8c2b-ae90-4f48-e733-aa9e44ff5151"
      },
      "execution_count": 9,
      "outputs": [
        {
          "output_type": "execute_result",
          "data": {
            "text/plain": [
              "(353, 454)"
            ]
          },
          "metadata": {},
          "execution_count": 9
        }
      ]
    },
    {
      "cell_type": "code",
      "source": [
        "r = None#alternative exists"
      ],
      "metadata": {
        "id": "Xojxk1MBFfhB"
      },
      "execution_count": 11,
      "outputs": []
    },
    {
      "cell_type": "code",
      "source": [
        "img_copy_for_corners = np.copy(img)\n",
        "img_copy_for_edges = np.copy(img)\n",
        "\n",
        "for rowindex, response in enumerate(harris_response):\n",
        "    for colindex, r in enumerate(response):\n",
        "        if r > 0:\n",
        "            # this is a corner\n",
        "            img_copy_for_corners[rowindex, colindex] = [255,0,0]\n",
        "        elif r < 0:\n",
        "            # this is an edge\n",
        "            img_copy_for_edges[rowindex, colindex] = [0,255,0]\n"
      ],
      "metadata": {
        "id": "Q7_A7c_wFssI"
      },
      "execution_count": 12,
      "outputs": []
    },
    {
      "cell_type": "code",
      "source": [
        "from skimage.feature import corner_peaks\n",
        "import matplotlib.pyplot as plt\n",
        "\n",
        "corners = corner_peaks(harris_response,min_distance=1)\n",
        "fig, ax = plt.subplots()\n",
        "ax.imshow(img, interpolation='nearest', cmap=plt.cm.gray)\n",
        "ax.plot(corners[:, 1], corners[:, 0], '.r', markersize=3)\n"
      ],
      "metadata": {
        "colab": {
          "base_uri": "https://localhost:8080/",
          "height": 287
        },
        "id": "TZmwNrA0F5f6",
        "outputId": "8fb2f8fc-ce60-4f0a-dfe1-4d065c9f4947"
      },
      "execution_count": 16,
      "outputs": [
        {
          "output_type": "execute_result",
          "data": {
            "text/plain": [
              "[<matplotlib.lines.Line2D at 0x7f902367f790>]"
            ]
          },
          "metadata": {},
          "execution_count": 16
        },
        {
          "output_type": "display_data",
          "data": {
            "text/plain": [
              "<Figure size 432x288 with 1 Axes>"
            ],
            "image/png": "[encoded data removed]"
          },
          "metadata": {
            "needs_background": "light"
          }
        }
      ]
    },
    {
      "cell_type": "code",
      "source": [
        "from skimage.feature import corner_fast, corner_peaks\n",
        "square = np.zeros((12, 12))\n",
        "square[3:9, 3:9] = 1\n",
        "corners = corner_peaks(corner_fast(square, 9), min_distance=1)\n"
      ],
      "metadata": {
        "id": "H8bWn2UtF8ry"
      },
      "execution_count": 22,
      "outputs": []
    },
    {
      "cell_type": "code",
      "source": [
        "fig, ax = plt.subplots()\n",
        "ax.imshow(square, interpolation='nearest', cmap=plt.cm.gray)\n",
        "\n",
        "ax.plot(corners[:, 1], corners[:, 0], '.r', markersize=3)\n"
      ],
      "metadata": {
        "colab": {
          "base_uri": "https://localhost:8080/",
          "height": 283
        },
        "id": "Ruy26Gd7Ic7Z",
        "outputId": "f2649dfe-e28a-4802-b284-aa8095b47c23"
      },
      "execution_count": 25,
      "outputs": [
        {
          "output_type": "execute_result",
          "data": {
            "text/plain": [
              "[<matplotlib.lines.Line2D at 0x7f9025228c50>]"
            ]
          },
          "metadata": {},
          "execution_count": 25
        },
        {
          "output_type": "display_data",
          "data": {
            "text/plain": [
              "<Figure size 432x288 with 1 Axes>"
            ],
            "image/png": "[encoded data removed]"
          },
          "metadata": {
            "needs_background": "light"
          }
        }
      ]
    },
    {
      "cell_type": "code",
      "source": [
        "plt.show()"
      ],
      "metadata": {
        "id": "-fhJ30L7I0tr"
      },
      "execution_count": 24,
      "outputs": []
    },
    {
      "cell_type": "code",
      "source": [
        ""
      ],
      "metadata": {
        "id": "gwnfL2REI3ZA"
      },
      "execution_count": null,
      "outputs": []
    }
  ]
}